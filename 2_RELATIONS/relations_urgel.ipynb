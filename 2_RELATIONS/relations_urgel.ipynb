{
 "cells": [
  {
   "cell_type": "markdown",
   "id": "a445c763-83a0-4866-9062-c73569e65bf0",
   "metadata": {},
   "source": [
    "**Conrad O. Urgel** \\\n",
    "**BSCS - 1** \\\n",
    "**September 13, 2023** \\\n",
    "**CIS 1103 Group 6: Discrete Mathematics | TTH 3:00-4:30pm**"
   ]
  },
  {
   "cell_type": "markdown",
   "id": "f91b3f39-7617-45ea-ab1a-56b5e2fac873",
   "metadata": {},
   "source": [
    "<span style=\"color:red; font-size:24px;\">ASSIGNMENT</span>"
   ]
  },
  {
   "cell_type": "markdown",
   "id": "b1826585-8451-42fa-9d66-1e7e9b2adb5d",
   "metadata": {},
   "source": [
    "**Given**\n",
    "\n",
    "\\begin{equation}\r\n",
    "R_1 = \\{\\{1,1\\},\\{1,2\\},\\{2,3\\},\\{1,3\\},\\{4,4\\}\\} \\\\\r\n",
    "R_2 = \\{\\{1,3,\\},\\{2,1\\}\\} \\\\\r\n",
    "R_3 = AxA\r\n",
    "\\end{equation}"
   ]
  },
  {
   "cell_type": "code",
   "execution_count": 8,
   "id": "0d02753e-0696-4d55-9916-6a7b2584ebdd",
   "metadata": {},
   "outputs": [
    {
     "name": "stdout",
     "output_type": "stream",
     "text": [
      "R1 is transitive: True\n",
      "R2 is transitive: False\n",
      "R3 is transitive: True\n"
     ]
    }
   ],
   "source": [
    "def is_transitive(input_set):\n",
    "    for (a, b) in input_set:\n",
    "        for (c, d) in input_set:\n",
    "            if b == c:\n",
    "                if (a, d) not in input_set:\n",
    "                    return False\n",
    "    return True\n",
    "\n",
    "# Define the sets R1, R2, and R3\n",
    "R1 = {(1, 1), (1, 2), (2, 3), (1, 3), (4, 4)}\n",
    "R2 = {(1, 3), (2, 1)}\n",
    "A = {1, 2, 3, 4}\n",
    "R3 = {(a, b) for a in A for b in A}\n",
    "\n",
    "# Check if R1 is transitive\n",
    "result_R1 = is_transitive(R1)\n",
    "print(\"R1 is transitive:\", result_R1)\n",
    "\n",
    "# Check if R2 is transitive\n",
    "result_R2 = is_transitive(R2)\n",
    "print(\"R2 is transitive:\", result_R2)\n",
    "\n",
    "# Check if R3 is transitive\n",
    "result_R3 = is_transitive(R3)\n",
    "print(\"R3 is transitive:\", result_R3)"
   ]
  },
  {
   "cell_type": "markdown",
   "id": "e0fdb0b4-019a-46a5-b1a9-e38f626a33e3",
   "metadata": {},
   "source": [
    "**Given**\n",
    "\n",
    "A = \\{1,2,3,4\\} \\\n",
    "B = \\{x,y,z\\} \\\n",
    "{R} = \\{\n",
    "\\{1,y\\},\\{1,z\\},\\{3,y\\},\\{4,x\\},\\{4,z,}} \\\n",
    "Let R be a relation from A $\\to$ B"
   ]
  },
  {
   "cell_type": "markdown",
   "id": "9c29b1ee-c729-4fc9-9aa3-5f50b6620276",
   "metadata": {
    "scrolled": true
   },
   "source": [
    "1.\n",
    "\n",
    "To find all elements $(a, b)$ in the relation $R$ (i.e., $aRb$), we simply list all the pairs in the set $R$:\n",
    "\n",
    "\n",
    "Therefore, aRb:\n",
    "\n",
    "$(1, y)$\\\n",
    "$(1, z)$\\\n",
    "$(3, y)$\\\n",
    "$(4, x)$\\\n",
    "$(4, z)$"
   ]
  },
  {
   "cell_type": "markdown",
   "id": "4d2cc52d-9fa4-4d51-b0d8-f5cc5e2348b9",
   "metadata": {},
   "source": [
    "2.\n",
    "\n",
    "The inverse of a relation $R$, denoted as $R^{-1}$, is a new relation that contains all the pairs in $R$ reversed. In other words, if $(a, b)$ is in $R$, then $(b, a)$ will be in $R^{-1}$.\n",
    "\n",
    "For the given relation $R$:\n",
    "\n",
    "$R$ = {{1, y}, {1, z}, {3, y}, {4, x}, {4, z}}\n",
    "\n",
    "\n",
    "The inverse relation $R^{-1}$ will be:\n",
    "\n",
    "$R^{-1} $= {{y, 1}, {z, 1}, {y, 3}, {x, 4}, {z, 4}}"
   ]
  },
  {
   "cell_type": "markdown",
   "id": "f6875be0-3c3d-4d0b-9e96-cc9fd9e6eb74",
   "metadata": {},
   "source": [
    "3.\n",
    "\n",
    "Domain of R:\n",
    "\n",
    "The domain of $R$ consists of all the unique first components of the pairs in $R$. So, the domain of $R$ is ${1, 3, 4}$.\n",
    "\n",
    "\n",
    "Range of R:\n",
    "\n",
    "The range of $R$ consists of all the unique second components of the pairs in $R$. So, the range of $R$ is ${x, y, z}$.\n",
    "\n",
    "Therefore, the domain of $R$ is {1, 3, 4}, and the range of $R$ is {x, y, z}."
   ]
  },
  {
   "cell_type": "markdown",
   "id": "d54e4f91-b383-477e-ad64-b837313ba781",
   "metadata": {},
   "source": [
    "4."
   ]
  },
  {
   "cell_type": "code",
   "execution_count": 14,
   "id": "ad47b32a-edc9-477a-a8c3-120094558418",
   "metadata": {},
   "outputs": [
    {
     "name": "stdout",
     "output_type": "stream",
     "text": [
      "R is not reflexive on either A or B.\n"
     ]
    }
   ],
   "source": [
    "def is_reflexive(relation, domain):\n",
    "    for element in domain:\n",
    "        if (element, element) not in relation:\n",
    "            return False\n",
    "    return True\n",
    "\n",
    "# Given relation R and domains A and B\n",
    "R = {(1, 'y'), (1, 'z'), (3, 'y'), (4, 'x'), (4, 'z')}\n",
    "A = {1, 2, 3, 4}\n",
    "B = {'x', 'y', 'z'}\n",
    "\n",
    "# Check if R is reflexive on A and B\n",
    "result_A = is_reflexive(R, A)\n",
    "result_B = is_reflexive(R, B)\n",
    "\n",
    "if result_A and result_B:\n",
    "    print(\"R is reflexive on both A and B.\")\n",
    "elif result_A:\n",
    "    print(\"R is reflexive on A, but not on B.\")\n",
    "elif result_B:\n",
    "    print(\"R is reflexive on B, but not on A.\")\n",
    "else:\n",
    "    print(\"R is not reflexive on either A or B.\")"
   ]
  },
  {
   "cell_type": "markdown",
   "id": "e0e91d21-a9a3-4d25-86a6-bc1b68e315df",
   "metadata": {},
   "source": [
    "To check if $R$ is reflexive:\n",
    "\n",
    "For $A$:\n",
    "\n",
    "For reflexivity on $A$, every element of $A$ must appear as the first component in $R$.\n",
    "$R$ is not reflexive on $A$ because not all elements of $A$ appear as the first component in $R$.\n",
    "\n",
    "\n",
    "For $B$:\n",
    "\n",
    "For reflexivity on $B$, every element of $B$ must appear as the second component in $R$.\n",
    "$R$ is not reflexive on $B$ because not all elements of $B$ appear as the second component in $R$.\n",
    "Therefore, $R$ is not reflexive on either $A$ or $B$."
   ]
  },
  {
   "cell_type": "markdown",
   "id": "379b2b55-9d33-4d3f-9200-3ca9aa2e1be0",
   "metadata": {},
   "source": [
    "5."
   ]
  },
  {
   "cell_type": "code",
   "execution_count": 2,
   "id": "467221a9-1d7d-4d91-837b-9429904e6234",
   "metadata": {},
   "outputs": [
    {
     "name": "stdout",
     "output_type": "stream",
     "text": [
      "R is not symmetric.\n"
     ]
    }
   ],
   "source": [
    "def is_symmetric(relation):\n",
    "    for a, b in relation:\n",
    "        if (b, a) not in relation:\n",
    "            return False\n",
    "    return True\n",
    "\n",
    "#Given relation R\n",
    "R = {(1, 'y'), (1, 'z'), (3, 'y'), (4, 'x'), (4, 'z')}\n",
    "\n",
    "#Check if R is symmetric\n",
    "result = is_symmetric(R)\n",
    "\n",
    "if result:\n",
    "    print(\"R is symmetric.\")\n",
    "else:\n",
    "    print(\"R is not symmetric.\")"
   ]
  },
  {
   "cell_type": "markdown",
   "id": "3e81e24a-b0e8-42ea-9333-c48e58867ba7",
   "metadata": {},
   "source": [
    "**Manual Check**\\\n",
    "For $(1, y)$ in $R$: Is $(y, 1)$ also in $R$? **No**, $(y, 1)$ is not in $R$, so $R$ is not symmetric for this pair.\\\n",
    "For $(1, z)$ in $R$: Is $(z, 1)$ also in $R$? **No**, $(z, 1)$ is not in $R$, so $R$ is not symmetric for this pair.\\\n",
    "For $(3, y)$ in $R$: Is $(y, 3)$ also in $R$? **No**, $(y, 3)$ is not in $R$, so $R$ is not symmetric for this pair.\\\n",
    "For $(4, x)$ in $R$: Is $(x, 4)$ also in $R$? **No**, $(x, 4)$ is not in $R$, so $R$ is not symmetric for this pair.\\\n",
    "For $(4, z)$ in $R$: Is $(z, 4)$ also in $R$? **No**, $(z, 4)$ is not in $R$, so $R$ is not symmetric for this pair.\\\n",
    "Since $R$ is not symmetric for all pairs, $R$ is not a symmetric relation."
   ]
  },
  {
   "cell_type": "code",
   "execution_count": 37,
   "id": "2c919cac-1798-4888-84de-486a854a409e",
   "metadata": {},
   "outputs": [
    {
     "name": "stdout",
     "output_type": "stream",
     "text": [
      "Requirement already satisfied: graphviz in c:\\users\\ken\\appdata\\local\\programs\\python\\python311\\lib\\site-packages (0.20.1)\n"
     ]
    }
   ],
   "source": [
    "!pip install graphviz"
   ]
  },
  {
   "cell_type": "code",
   "execution_count": 35,
   "id": "8f3aae2c-be83-44d3-8851-34d7af9ffe29",
   "metadata": {},
   "outputs": [
    {
     "name": "stdout",
     "output_type": "stream",
     "text": [
      "Requirement already satisfied: pydot in c:\\users\\ken\\appdata\\local\\programs\\python\\python311\\lib\\site-packages (1.4.2)\n",
      "Requirement already satisfied: pyparsing>=2.1.4 in c:\\users\\ken\\appdata\\local\\programs\\python\\python311\\lib\\site-packages (from pydot) (3.1.1)\n"
     ]
    }
   ],
   "source": [
    "!pip install pydot"
   ]
  },
  {
   "cell_type": "code",
   "execution_count": 36,
   "id": "a98081ef-846f-4cab-81b9-ec0c7f9ef7c0",
   "metadata": {},
   "outputs": [
    {
     "name": "stdout",
     "output_type": "stream",
     "text": [
      "Requirement already satisfied: networkx in c:\\users\\ken\\appdata\\local\\programs\\python\\python311\\lib\\site-packages (3.1)\n"
     ]
    }
   ],
   "source": [
    "!pip install networkx"
   ]
  },
  {
   "cell_type": "markdown",
   "id": "cfce0656-51b4-4e5b-ac93-d6a543c03378",
   "metadata": {},
   "source": [
    "**Given**\\\n",
    "A = {1,2,3,4,5}\\\n",
    "B = {a,b,c}\\\n",
    "C = {x,y,z}\n",
    "\n",
    "Let R be a relation from A $\\to$ B\\\n",
    "{R} = {{1,b},\\{2,a},\\{2,c}}\n",
    "\n",
    "Let S be a relation from  B $\\to$ C\\\n",
    "{S} = {{a,y},\\{b,x},\\{c,y},,\\{c,z}}"
   ]
  },
  {
   "cell_type": "markdown",
   "id": "bec8e6c4-0f72-41b5-91d1-0d1779267fc9",
   "metadata": {},
   "source": [
    "1.\n",
    "\n",
    "For $(1, b)$ in $R$:\n",
    "\n",
    "   $$\n",
    "   R = \\{(1, b)\\}, \\quad S = \\{(b, x)\\}\n",
    "   $$\n",
    "\n",
    "   $$\n",
    "   R \\circ S = \\{(1, x)\\}, \\quad aRc = \\{(1, x)\\}\n",
    "   $$\n",
    "\n",
    "   So, for the pair $(1, b)$, when we combine $R$ and $S$, we get $(1, x)$, which means $1$ is related to $x$ in the composite relation $R \\circ S$.\n",
    "\n",
    "For $(2, a)$ in $R$:\n",
    "\n",
    "   $$\n",
    "   R = \\{(2, a)\\}, \\quad S = \\{(a, y)\\}\n",
    "   $$\n",
    "\n",
    "   $$\n",
    "   R \\circ S = \\{(2, y)\\}, \\quad aRc = \\{(2, y)\\}\n",
    "   $$\n",
    "\n",
    "   So, for the pair $(2, a)$, when we combine $R$ and $S$, we get $(2, y)$, which means $2$ is related to $y$ in the composite relation $R \\circ S$.\n",
    "\n",
    "For $(2, c)$ in $R$:\n",
    "\n",
    "   $$\n",
    "   R = \\{(2, c)\\}, \\quad S = \\{(c, y), (c, z)\\}\n",
    "   $$\n",
    "\n",
    "   $$\n",
    "   R \\circ S = \\{(2, y), (2, z)\\}, \\quad aRc = \\{(2, y), (2, z)\\}\n",
    "   $$\n",
    "\n",
    "   So, for the pair $(2, c)$, when we combine $R$ and $S$, we get $(2, y)$ and $(2, z)$, which means $2$ is related to $y$ and $z$ in the composite relation $R \\circ S$.\n",
    "\n",
    "Now, let's list all the results in the composite relation $R \\circ S$:\n",
    "\n",
    "$$\n",
    "R \\circ S = \\{(1, x), (2, y), (2, z)\\}\n",
    "$$"
   ]
  },
  {
   "cell_type": "markdown",
   "id": "977df8ee-103a-40ff-9a98-5300ce59b100",
   "metadata": {},
   "source": [
    "2.\n",
    "\n",
    "For the given relation $R$:\n",
    "\n",
    "$R$ = {{1,b}, {2,a}, {2,c}}\n",
    "\n",
    "\n",
    "The inverse relation $R^{-1}$ will be:\n",
    "\n",
    "$R^{-1} $= {{b,1}, {a,2}, {c,2}}"
   ]
  },
  {
   "cell_type": "markdown",
   "id": "4be04895-c90b-4d55-962c-a7267918f41a",
   "metadata": {},
   "source": [
    "3. \n",
    "\n",
    "For the given relation $S$:\n",
    "\n",
    "$S$ = {{a,y}, {b,x}, {c,y}, {c,z}}\n",
    "\n",
    "\n",
    "The inverse relation $S^{-1}$ will be:\n",
    "\n",
    "$S^{-1} $= {{y,a}, {x,b}, {y,c}, {z,c}}"
   ]
  },
  {
   "cell_type": "markdown",
   "id": "a475e798-940b-488c-a2af-e414b934f040",
   "metadata": {},
   "source": [
    "4. \n",
    "\n",
    "Domain of R:\n",
    "\n",
    "The domain of $R$ consists of all the unique first components of the pairs in $R$. So, the domain of $R$ is ${1, 2}$.\n",
    "\n",
    "\n",
    "Range of R:\n",
    "\n",
    "The range of $R$ consists of all the unique second components of the pairs in $R$. So, the range of $R$ is ${a, b, c}$.\n",
    "\n",
    "Therefore, the domain of $R$ is {1, 2}, and the range of $R$ is {a, b, c}."
   ]
  },
  {
   "cell_type": "markdown",
   "id": "fc94a072-315c-4037-b595-8e9192cced51",
   "metadata": {},
   "source": [
    "5. \n",
    "\n",
    "For a relation to be reflexive, every element in $A$ must be related to itself in $R$. Let's verify:\n",
    "\n",
    "- For $a = 1$: We have $(1, 1)$ is not in $R$, so $R$ is not reflexive for $a = 1$.\n",
    "- For $a = 2$: We have $(2, 2)$ is not in $R$, so $R$ is not reflexive for $a = 2$.\n",
    "- For $a = 3$: We have $(3, 3)$ is not in $R$, so $R$ is not reflexive for $a = 3$.\n",
    "- For $a = 4$: We have $(4, 4)$ is not in $R$, so $R$ is not reflexive for $a = 4$.\n",
    "- For $a = 5$: We have $(5, 5)$ is not in $R$, so $R$ is not reflexive for $a = 5$.\n",
    "\n",
    "Since there are elements in $A$ for which $(a, a)$ is not in $R$, we can conclude that $R$ is not reflexive for the given sets $A$ and $B$."
   ]
  },
  {
   "cell_type": "code",
   "execution_count": 7,
   "id": "0ac2eb10-e69f-40f0-a86f-b2a467fbdabe",
   "metadata": {},
   "outputs": [
    {
     "name": "stdout",
     "output_type": "stream",
     "text": [
      "Relation R is not reflexive for set A.\n",
      "Relation R is not reflexive for set B.\n"
     ]
    }
   ],
   "source": [
    "# Given sets\n",
    "A = {1, 2, 3, 4, 5}\n",
    "B = {'a', 'b', 'c'}\n",
    "\n",
    "# Define the relation R as a set of pairs\n",
    "R = {(1, 'b'), (2, 'a'), (2, 'c')}\n",
    "\n",
    "def is_reflexive(relation, elements):\n",
    "    for element in elements:\n",
    "        if (element, element) not in relation:\n",
    "            return False\n",
    "    return True\n",
    "\n",
    "# Check if R is reflexive for set A\n",
    "reflexive_A = is_reflexive(R, A)\n",
    "\n",
    "# Check if R is reflexive for set B\n",
    "reflexive_B = is_reflexive(R, B)\n",
    "\n",
    "if reflexive_A:\n",
    "    print(\"Relation R is reflexive for set A.\")\n",
    "else:\n",
    "    print(\"Relation R is not reflexive for set A.\")\n",
    "\n",
    "if reflexive_B:\n",
    "    print(\"Relation R is reflexive for set B.\")\n",
    "else:\n",
    "    print(\"Relation R is not reflexive for set B.\")"
   ]
  },
  {
   "cell_type": "markdown",
   "id": "f415331f-8319-4577-ac14-6138e7e81773",
   "metadata": {},
   "source": [
    "6. \n",
    "\n",
    "- For $(1, b)$ in $R$, we need to check if $(b, 1)$ is also in $R$. However, $(b, 1)$ is not in $R$, so $R$ is not symmetric for $(1, b)$.\n",
    "\n",
    "- For $(2, a)$ in $R$, we need to check if $(a, 2)$ is also in $R$. However, $(a, 2)$ is not in $R$, so $R$ is not symmetric for $(2, a)$.\n",
    "\n",
    "- For $(2, c)$ in $R$, we need to check if $(c, 2)$ is also in $R$. However, $(c, 2)$ is not in $R$, so $R$ is not symmetric for $(2, c)$.\n",
    "\n",
    "Since there are pairs in $R$ for which the corresponding pairs are not present, we can conclude that $R$ is not symmetric for the given sets $A$ and $B$."
   ]
  },
  {
   "cell_type": "code",
   "execution_count": 9,
   "id": "aa38f32c-c23f-4739-9df7-85ec1d0680c5",
   "metadata": {},
   "outputs": [
    {
     "name": "stdout",
     "output_type": "stream",
     "text": [
      "Relation R is not symmetric.\n"
     ]
    }
   ],
   "source": [
    "# Given sets\n",
    "A = {1, 2, 3, 4, 5}\n",
    "B = {'a', 'b', 'c'}\n",
    "\n",
    "# Define the relation R as a set of pairs\n",
    "R = {(1, 'b'), (2, 'a'), (2, 'c')}\n",
    "\n",
    "def is_symmetric(relation):\n",
    "    for a, b in relation:\n",
    "        if (b, a) not in relation:\n",
    "            return False\n",
    "    return True\n",
    "\n",
    "# Check if R is symmetric\n",
    "symmetric_result = is_symmetric(R)\n",
    "\n",
    "if symmetric_result:\n",
    "    print(\"Relation R is symmetric.\")\n",
    "else:\n",
    "    print(\"Relation R is not symmetric.\")"
   ]
  },
  {
   "cell_type": "markdown",
   "id": "2b3ae23a-6311-424c-85c1-d7b8d759ca5b",
   "metadata": {},
   "source": [
    "7. \n",
    "\n",
    "Domain of S:\n",
    "\n",
    "The domain of $S$ consists of all the unique first components of the pairs in $S$. So, the domain of $S$ is ${a, b, c}$.\n",
    "\n",
    "Range of S:\n",
    "\n",
    "The range of $S$ consists of all the unique second components of the pairs in $S$. So, the range of $S$ is ${x, y, z}$.\n",
    "\n",
    "Therefore, the domain of $S$ is {a, b, c}, and the range of $S$ is {x, y, z}."
   ]
  },
  {
   "cell_type": "markdown",
   "id": "a39796fc-354e-4980-9a6c-0a2218f15b0b",
   "metadata": {},
   "source": [
    "8. \n",
    "\n",
    "For $a = a$: We have $(a, a)$ is not in $S$, so $S$ is not reflexive for $a = a$.\n",
    "\n",
    "For $a = b$: We have $(b, b)$ is not in $S$, so $S$ is not reflexive for $a = b$.\n",
    "\n",
    "For $a = c$: We have $(c, c)$ is not in $S$, so $S$ is not reflexive for $a = c$.\n",
    "\n",
    "Since there are elements in the domain of $S$ for which $(a, a)$ is not in $S$, we can conclude that $S$ is not reflexive for the given sets $A$ and $B$."
   ]
  },
  {
   "cell_type": "code",
   "execution_count": 12,
   "id": "e6a18f3c-d8ed-47dc-9712-21d238e09fc0",
   "metadata": {},
   "outputs": [
    {
     "name": "stdout",
     "output_type": "stream",
     "text": [
      "S is not reflexive with respect to sets B and C.\n"
     ]
    }
   ],
   "source": [
    "def is_reflexive(relation, domain):\n",
    "    # Create a set of all possible pairs (a, a) for a in domain\n",
    "    expected_reflexive_pairs = {(a, a) for a in domain}\n",
    "    \n",
    "    # Check if each expected reflexive pair is in the relation\n",
    "    for pair in expected_reflexive_pairs:\n",
    "        if pair not in relation:\n",
    "            return False\n",
    "    \n",
    "    # If all expected reflexive pairs are found in the relation, it is reflexive\n",
    "    return True\n",
    "\n",
    "# Given sets\n",
    "B = {'a', 'b', 'c'}\n",
    "C = {'x', 'y', 'z'}\n",
    "\n",
    "# Define the relation S as a set of pairs\n",
    "S = {('a', 'y'), ('b', 'x'), ('c', 'y'), ('c', 'z')}\n",
    "\n",
    "# Check if S is reflexive with respect to sets B and C\n",
    "result_B = is_reflexive(S, B)\n",
    "result_C = is_reflexive(S, C)\n",
    "\n",
    "if result_B and result_C:\n",
    "    print(\"S is reflexive with respect to sets B and C.\")\n",
    "elif result_B:\n",
    "    print(\"S is reflexive with respect to set B but not C.\")\n",
    "elif result_C:\n",
    "    print(\"S is reflexive with respect to set C but not B.\")\n",
    "else:\n",
    "    print(\"S is not reflexive with respect to sets B and C.\")"
   ]
  },
  {
   "cell_type": "markdown",
   "id": "55b3a56d-0301-4dd5-ba7a-02bb654b5637",
   "metadata": {},
   "source": [
    "9.\n",
    "\n",
    "For $(a, y)$ in $S$, we need to check if $(y, a)$ is also in $S$. However, $(y, a)$ is not in $S$, so $S$ is not symmetric for $(a, y)$.\n",
    "\n",
    "For $(b, x)$ in $S$, we need to check if $(x, b)$ is also in $S$. However, $(x, b)$ is not in $S$, so $S$ is not symmetric for $(b, x)$.\n",
    "\n",
    "For $(c, y)$ in $S$, we need to check if $(y, c)$ is also in $S$. However, $(y, c)$ is not in $S$, so $S$ is not symmetric for $(c, y)$.\n",
    "\n",
    "For $(c, z)$ in $S$, we need to check if $(z, c)$ is also in $S$. However, $(z, c)$ is not in $S$, so $S$ is not symmetric for $(c, z)$.\n",
    "\n",
    "Since there are pairs in $S$ for which the corresponding pairs are not present, we can conclude that $S$ is not symmetric for the given sets $B$ and $C$."
   ]
  },
  {
   "cell_type": "code",
   "execution_count": 14,
   "id": "f3d6594d-d596-474a-b543-c6a01f5ccc74",
   "metadata": {},
   "outputs": [
    {
     "name": "stdout",
     "output_type": "stream",
     "text": [
      "S is not symmetric.\n"
     ]
    }
   ],
   "source": [
    "def is_symmetric(relation):\n",
    "    # Check if for every pair (a, b) in relation, the pair (b, a) is also in relation\n",
    "    for pair in relation:\n",
    "        reverse_pair = (pair[1], pair[0])  # Reverse the pair\n",
    "        if reverse_pair not in relation:\n",
    "            return False\n",
    "    return True\n",
    "\n",
    "# Given set of pairs for relation S\n",
    "S = {('a', 'y'), ('b', 'x'), ('c', 'y'), ('c', 'z')}\n",
    "\n",
    "# Check if S is symmetric\n",
    "result = is_symmetric(S)\n",
    "\n",
    "if result:\n",
    "    print(\"S is symmetric.\")\n",
    "else:\n",
    "    print(\"S is not symmetric.\")"
   ]
  },
  {
   "cell_type": "markdown",
   "id": "a54a48dd-ec28-47dc-b771-330bb9f3bada",
   "metadata": {},
   "source": [
    "**Given**\\\n",
    "A = {1,2,3,4}\\\n",
    "\n",
    "Let R be a relation from A $\\to$ B\\\n",
    "\\begin{equation}\n",
    "\\textbf{R} = \\{\n",
    "\\{1,1\\},\\{2,2\\},\\{2,3\\},\\{3,2\\},\\{4,2\\},\\{4,4\\}\n",
    "\\}\n",
    "\\end{equation}"
   ]
  },
  {
   "cell_type": "markdown",
   "id": "117635a3-5818-48a3-8107-50cb66d5071c",
   "metadata": {},
   "source": [
    "1. \n",
    "\n",
    "For {1, 1}:\n",
    "- R = {(1, 1)}\n",
    "- S = {(1, 1)}\n",
    "- R o S = {(1, 1)}\n",
    "- aRc = {(1, 1)}\n",
    "\n",
    "For {2, 2}:\n",
    "- R = {(2, 2)}\n",
    "- S = {(2, 2), (2, 3)}\n",
    "- R o S = {(2, 2), (2, 3)}\n",
    "- aRc = {(2, 2), (2, 3)}\n",
    "\n",
    "For {2, 3}:\n",
    "- R = {(2, 3)}\n",
    "- S = {(3, 2)}\n",
    "- R o S = {(2, 2)}\n",
    "- aRc = {(2, 2)}\n",
    "\n",
    "For {3, 2}:\n",
    "- R = {(3, 2)}\n",
    "- S = {(2, 2), (2, 3)}\n",
    "- R o S = {(3, 2), (3, 3)}\n",
    "- aRc = {(3, 2), (3, 3)}\n",
    "\n",
    "For {4, 2}:\n",
    "- R = {(4, 2)}\n",
    "- S = {(2, 2), (2, 3)}\n",
    "- R o S = {(4, 2), (4, 3)}\n",
    "- aRc = {(4, 2), (4, 3)}\n",
    "\n",
    "For {4, 4}:\n",
    "- R = {(4, 4)}\n",
    "- S = {(4, 2)}\n",
    "- R o S = {(4, 4)}\n",
    "- aRc = {(4, 4)}\n",
    "\n",
    "Composite Relation R o R:\n",
    "R o R = {(1, 1), (2, 2), (2, 3), (3, 2), (3, 3), (4, 2), (4, 3), (4, 4)}"
   ]
  },
  {
   "cell_type": "markdown",
   "id": "0c7e9ac1-8739-4d22-82c7-47af3892a6ab",
   "metadata": {},
   "source": [
    "2."
   ]
  },
  {
   "cell_type": "code",
   "execution_count": 22,
   "id": "aadac017-5743-4b82-b249-01234643bb14",
   "metadata": {},
   "outputs": [
    {
     "data": {
      "image/svg+xml": [
       "<?xml version=\"1.0\" encoding=\"UTF-8\" standalone=\"no\"?>\n",
       "<!DOCTYPE svg PUBLIC \"-//W3C//DTD SVG 1.1//EN\"\n",
       " \"http://www.w3.org/Graphics/SVG/1.1/DTD/svg11.dtd\">\n",
       "<!-- Generated by graphviz version 9.0.0 (20230911.1827)\n",
       " -->\n",
       "<!-- Pages: 1 -->\n",
       "<svg width=\"242pt\" height=\"116pt\"\n",
       " viewBox=\"0.00 0.00 242.00 116.00\" xmlns=\"http://www.w3.org/2000/svg\" xmlns:xlink=\"http://www.w3.org/1999/xlink\">\n",
       "<g id=\"graph0\" class=\"graph\" transform=\"scale(1 1) rotate(0) translate(4 112)\">\n",
       "<polygon fill=\"white\" stroke=\"none\" points=\"-4,4 -4,-112 238,-112 238,4 -4,4\"/>\n",
       "<!-- 1 -->\n",
       "<g id=\"node1\" class=\"node\">\n",
       "<title>1</title>\n",
       "<ellipse fill=\"none\" stroke=\"black\" cx=\"27\" cy=\"-90\" rx=\"27\" ry=\"18\"/>\n",
       "<text text-anchor=\"middle\" x=\"27\" y=\"-84.58\" font-family=\"Times New Roman,serif\" font-size=\"14.00\">1</text>\n",
       "</g>\n",
       "<!-- 1&#45;&gt;1 -->\n",
       "<g id=\"edge1\" class=\"edge\">\n",
       "<title>1&#45;&gt;1</title>\n",
       "<path fill=\"none\" stroke=\"black\" d=\"M46.9,-102.43C59.69,-105.68 72,-101.53 72,-90 72,-81.98 66.05,-77.54 58.12,-76.66\"/>\n",
       "<polygon fill=\"black\" stroke=\"black\" points=\"58.09,-73.15 48.4,-77.45 58.65,-80.13 58.09,-73.15\"/>\n",
       "</g>\n",
       "<!-- 2 -->\n",
       "<g id=\"node2\" class=\"node\">\n",
       "<title>2</title>\n",
       "<ellipse fill=\"none\" stroke=\"black\" cx=\"117\" cy=\"-90\" rx=\"27\" ry=\"18\"/>\n",
       "<text text-anchor=\"middle\" x=\"117\" y=\"-84.58\" font-family=\"Times New Roman,serif\" font-size=\"14.00\">2</text>\n",
       "</g>\n",
       "<!-- 2&#45;&gt;2 -->\n",
       "<g id=\"edge2\" class=\"edge\">\n",
       "<title>2&#45;&gt;2</title>\n",
       "<path fill=\"none\" stroke=\"black\" d=\"M136.9,-102.43C149.69,-105.68 162,-101.53 162,-90 162,-81.98 156.05,-77.54 148.12,-76.66\"/>\n",
       "<polygon fill=\"black\" stroke=\"black\" points=\"148.09,-73.15 138.4,-77.45 148.65,-80.13 148.09,-73.15\"/>\n",
       "</g>\n",
       "<!-- 3 -->\n",
       "<g id=\"node3\" class=\"node\">\n",
       "<title>3</title>\n",
       "<ellipse fill=\"none\" stroke=\"black\" cx=\"117\" cy=\"-18\" rx=\"27\" ry=\"18\"/>\n",
       "<text text-anchor=\"middle\" x=\"117\" y=\"-12.57\" font-family=\"Times New Roman,serif\" font-size=\"14.00\">3</text>\n",
       "</g>\n",
       "<!-- 2&#45;&gt;3 -->\n",
       "<g id=\"edge3\" class=\"edge\">\n",
       "<title>2&#45;&gt;3</title>\n",
       "<path fill=\"none\" stroke=\"black\" d=\"M111.12,-72.05C110.33,-64.57 110.08,-55.58 110.37,-47.14\"/>\n",
       "<polygon fill=\"black\" stroke=\"black\" points=\"113.85,-47.51 111.04,-37.3 106.87,-47.04 113.85,-47.51\"/>\n",
       "</g>\n",
       "<!-- 4 -->\n",
       "<g id=\"node4\" class=\"node\">\n",
       "<title>4</title>\n",
       "<ellipse fill=\"none\" stroke=\"black\" cx=\"189\" cy=\"-18\" rx=\"27\" ry=\"18\"/>\n",
       "<text text-anchor=\"middle\" x=\"189\" y=\"-12.57\" font-family=\"Times New Roman,serif\" font-size=\"14.00\">4</text>\n",
       "</g>\n",
       "<!-- 2&#45;&gt;4 -->\n",
       "<g id=\"edge4\" class=\"edge\">\n",
       "<title>2&#45;&gt;4</title>\n",
       "<path fill=\"none\" stroke=\"black\" d=\"M131.92,-74.5C141.77,-64.92 154.86,-52.19 166.03,-41.34\"/>\n",
       "<polygon fill=\"black\" stroke=\"black\" points=\"168.29,-44.02 173.02,-34.54 163.41,-39 168.29,-44.02\"/>\n",
       "</g>\n",
       "<!-- 3&#45;&gt;2 -->\n",
       "<g id=\"edge5\" class=\"edge\">\n",
       "<title>3&#45;&gt;2</title>\n",
       "<path fill=\"none\" stroke=\"black\" d=\"M122.86,-35.79C123.66,-43.25 123.92,-52.24 123.64,-60.69\"/>\n",
       "<polygon fill=\"black\" stroke=\"black\" points=\"120.16,-60.33 122.98,-70.54 127.14,-60.8 120.16,-60.33\"/>\n",
       "</g>\n",
       "<!-- 4&#45;&gt;4 -->\n",
       "<g id=\"edge6\" class=\"edge\">\n",
       "<title>4&#45;&gt;4</title>\n",
       "<path fill=\"none\" stroke=\"black\" d=\"M208.9,-30.43C221.69,-33.68 234,-29.53 234,-18 234,-9.98 228.05,-5.54 220.12,-4.66\"/>\n",
       "<polygon fill=\"black\" stroke=\"black\" points=\"220.09,-1.15 210.4,-5.45 220.65,-8.13 220.09,-1.15\"/>\n",
       "</g>\n",
       "</g>\n",
       "</svg>\n"
      ],
      "text/plain": [
       "<graphviz.sources.Source at 0x2ad08eeb110>"
      ]
     },
     "execution_count": 22,
     "metadata": {},
     "output_type": "execute_result"
    }
   ],
   "source": [
    "import networkx as nx\n",
    "from networkx.drawing import nx_pydot\n",
    "from graphviz import Source\n",
    "\n",
    "# Create a directed graph\n",
    "G = nx.DiGraph()\n",
    "\n",
    "# Define the inverse of relation R\n",
    "inverse_R = [(1, 1), (2, 2), (3, 2), (2, 3), (2, 4), (4,4)]\n",
    "\n",
    "# Add edges for the corrected inverse relation R^-1\n",
    "G.add_edges_from(inverse_R)\n",
    "\n",
    "# Write the graph to a DOT file\n",
    "nx_pydot.write_dot(G, 'inverse_R.dot')\n",
    "\n",
    "# Generate the graph visualization using Graphviz\n",
    "Source.from_file('inverse_R.dot')"
   ]
  },
  {
   "cell_type": "markdown",
   "id": "b2ee2537-8fbd-40a1-9ae7-4ffb48cdcb38",
   "metadata": {},
   "source": [
    "3."
   ]
  },
  {
   "cell_type": "code",
   "execution_count": 25,
   "id": "9f5a8f47-1789-4aed-af2e-771de0c14678",
   "metadata": {},
   "outputs": [
    {
     "data": {
      "image/svg+xml": [
       "<?xml version=\"1.0\" encoding=\"UTF-8\" standalone=\"no\"?>\n",
       "<!DOCTYPE svg PUBLIC \"-//W3C//DTD SVG 1.1//EN\"\n",
       " \"http://www.w3.org/Graphics/SVG/1.1/DTD/svg11.dtd\">\n",
       "<!-- Generated by graphviz version 9.0.0 (20230911.1827)\n",
       " -->\n",
       "<!-- Pages: 1 -->\n",
       "<svg width=\"170pt\" height=\"188pt\"\n",
       " viewBox=\"0.00 0.00 170.00 188.00\" xmlns=\"http://www.w3.org/2000/svg\" xmlns:xlink=\"http://www.w3.org/1999/xlink\">\n",
       "<g id=\"graph0\" class=\"graph\" transform=\"scale(1 1) rotate(0) translate(4 184)\">\n",
       "<polygon fill=\"white\" stroke=\"none\" points=\"-4,4 -4,-184 166,-184 166,4 -4,4\"/>\n",
       "<!-- 1 -->\n",
       "<g id=\"node1\" class=\"node\">\n",
       "<title>1</title>\n",
       "<ellipse fill=\"none\" stroke=\"black\" cx=\"27\" cy=\"-162\" rx=\"27\" ry=\"18\"/>\n",
       "<text text-anchor=\"middle\" x=\"27\" y=\"-156.57\" font-family=\"Times New Roman,serif\" font-size=\"14.00\">1</text>\n",
       "</g>\n",
       "<!-- 1&#45;&gt;1 -->\n",
       "<g id=\"edge1\" class=\"edge\">\n",
       "<title>1&#45;&gt;1</title>\n",
       "<path fill=\"none\" stroke=\"black\" d=\"M46.9,-174.43C59.69,-177.68 72,-173.53 72,-162 72,-153.98 66.05,-149.54 58.12,-148.66\"/>\n",
       "<polygon fill=\"black\" stroke=\"black\" points=\"58.09,-145.15 48.4,-149.45 58.65,-152.13 58.09,-145.15\"/>\n",
       "</g>\n",
       "<!-- 2 -->\n",
       "<g id=\"node2\" class=\"node\">\n",
       "<title>2</title>\n",
       "<ellipse fill=\"none\" stroke=\"black\" cx=\"117\" cy=\"-90\" rx=\"27\" ry=\"18\"/>\n",
       "<text text-anchor=\"middle\" x=\"117\" y=\"-84.58\" font-family=\"Times New Roman,serif\" font-size=\"14.00\">2</text>\n",
       "</g>\n",
       "<!-- 2&#45;&gt;2 -->\n",
       "<g id=\"edge2\" class=\"edge\">\n",
       "<title>2&#45;&gt;2</title>\n",
       "<path fill=\"none\" stroke=\"black\" d=\"M136.9,-102.43C149.69,-105.68 162,-101.53 162,-90 162,-81.98 156.05,-77.54 148.12,-76.66\"/>\n",
       "<polygon fill=\"black\" stroke=\"black\" points=\"148.09,-73.15 138.4,-77.45 148.65,-80.13 148.09,-73.15\"/>\n",
       "</g>\n",
       "<!-- 3 -->\n",
       "<g id=\"node3\" class=\"node\">\n",
       "<title>3</title>\n",
       "<ellipse fill=\"none\" stroke=\"black\" cx=\"117\" cy=\"-18\" rx=\"27\" ry=\"18\"/>\n",
       "<text text-anchor=\"middle\" x=\"117\" y=\"-12.57\" font-family=\"Times New Roman,serif\" font-size=\"14.00\">3</text>\n",
       "</g>\n",
       "<!-- 2&#45;&gt;3 -->\n",
       "<g id=\"edge3\" class=\"edge\">\n",
       "<title>2&#45;&gt;3</title>\n",
       "<path fill=\"none\" stroke=\"black\" d=\"M111.12,-72.05C110.33,-64.57 110.08,-55.58 110.37,-47.14\"/>\n",
       "<polygon fill=\"black\" stroke=\"black\" points=\"113.85,-47.51 111.04,-37.3 106.87,-47.04 113.85,-47.51\"/>\n",
       "</g>\n",
       "<!-- 3&#45;&gt;2 -->\n",
       "<g id=\"edge4\" class=\"edge\">\n",
       "<title>3&#45;&gt;2</title>\n",
       "<path fill=\"none\" stroke=\"black\" d=\"M122.86,-35.79C123.66,-43.25 123.92,-52.24 123.64,-60.69\"/>\n",
       "<polygon fill=\"black\" stroke=\"black\" points=\"120.16,-60.33 122.98,-70.54 127.14,-60.8 120.16,-60.33\"/>\n",
       "</g>\n",
       "<!-- 3&#45;&gt;3 -->\n",
       "<g id=\"edge5\" class=\"edge\">\n",
       "<title>3&#45;&gt;3</title>\n",
       "<path fill=\"none\" stroke=\"black\" d=\"M136.9,-30.43C149.69,-33.68 162,-29.53 162,-18 162,-9.98 156.05,-5.54 148.12,-4.66\"/>\n",
       "<polygon fill=\"black\" stroke=\"black\" points=\"148.09,-1.15 138.4,-5.45 148.65,-8.13 148.09,-1.15\"/>\n",
       "</g>\n",
       "<!-- 4 -->\n",
       "<g id=\"node4\" class=\"node\">\n",
       "<title>4</title>\n",
       "<ellipse fill=\"none\" stroke=\"black\" cx=\"117\" cy=\"-162\" rx=\"27\" ry=\"18\"/>\n",
       "<text text-anchor=\"middle\" x=\"117\" y=\"-156.57\" font-family=\"Times New Roman,serif\" font-size=\"14.00\">4</text>\n",
       "</g>\n",
       "<!-- 4&#45;&gt;2 -->\n",
       "<g id=\"edge6\" class=\"edge\">\n",
       "<title>4&#45;&gt;2</title>\n",
       "<path fill=\"none\" stroke=\"black\" d=\"M117,-143.7C117,-136.41 117,-127.73 117,-119.54\"/>\n",
       "<polygon fill=\"black\" stroke=\"black\" points=\"120.5,-119.62 117,-109.62 113.5,-119.62 120.5,-119.62\"/>\n",
       "</g>\n",
       "<!-- 4&#45;&gt;4 -->\n",
       "<g id=\"edge7\" class=\"edge\">\n",
       "<title>4&#45;&gt;4</title>\n",
       "<path fill=\"none\" stroke=\"black\" d=\"M136.9,-174.43C149.69,-177.68 162,-173.53 162,-162 162,-153.98 156.05,-149.54 148.12,-148.66\"/>\n",
       "<polygon fill=\"black\" stroke=\"black\" points=\"148.09,-145.15 138.4,-149.45 148.65,-152.13 148.09,-145.15\"/>\n",
       "</g>\n",
       "</g>\n",
       "</svg>\n"
      ],
      "text/plain": [
       "<graphviz.sources.Source at 0x2ad08615ad0>"
      ]
     },
     "execution_count": 25,
     "metadata": {},
     "output_type": "execute_result"
    }
   ],
   "source": [
    "import networkx as nx\n",
    "from networkx.drawing import nx_pydot\n",
    "from graphviz import Source\n",
    "\n",
    "# Create a directed graph\n",
    "G = nx.DiGraph()\n",
    "\n",
    "R = [(1, 1), (2, 2), (2, 3), (3, 2), (3, 3), (4, 2), (4, 4)]\n",
    "\n",
    "# Add edges for the corrected inverse relation R^-1\n",
    "G.add_edges_from(R)\n",
    "\n",
    "# Write the graph to a DOT file\n",
    "nx_pydot.write_dot(G, 'R.dot')\n",
    "\n",
    "# Generate the graph visualization using Graphviz\n",
    "Source.from_file('R.dot')"
   ]
  },
  {
   "cell_type": "markdown",
   "id": "71f84c76-ac6d-4adf-ae22-8e6e8c413c57",
   "metadata": {},
   "source": [
    "**Given**\n",
    "\n",
    "Let R and S be relations on $A = {1,2,3}$\n",
    "\n",
    "{R} = {{1,1},{1,2},{2,3},{3,1},{3,3}}\n",
    "\n",
    "{S} = {{1,2},{1,3},{2,1},{3,3}}"
   ]
  },
  {
   "cell_type": "markdown",
   "id": "e465e129-7755-47a3-8e00-409d3e768ba3",
   "metadata": {},
   "source": [
    "1. $R \\cup S$\n",
    "\n",
    "= {x |  x $\\in$ R $\\vee$  x $\\in$ S}\\\n",
    "= {{1,1},{1,2},{1,3},{2,1},{2,3},{3,1},{3,3}}"
   ]
  },
  {
   "cell_type": "markdown",
   "id": "39922552-2628-40ed-b42a-e6a2473bf401",
   "metadata": {},
   "source": [
    "2. $R \\cap S$"
   ]
  },
  {
   "cell_type": "markdown",
   "id": "b2841d07-3768-434d-89f4-60141785d5e4",
   "metadata": {},
   "source": [
    "= {x |  x $\\in$ R $\\wedge$  x $\\in$ S}\\\n",
    "= {{1,2},{3,3}}"
   ]
  },
  {
   "cell_type": "markdown",
   "id": "02d50fd7-d944-4483-91d3-dd5ed825c656",
   "metadata": {},
   "source": [
    "3. $R^{c}$"
   ]
  },
  {
   "cell_type": "markdown",
   "id": "1e530f3f-c53a-4713-a9c2-64d0858e0994",
   "metadata": {},
   "source": [
    "= $A \\times A - R$ \\\n",
    "= {{1,1}, {1,2}, {1,3}, {2,1}, {2,2}, {2,3}, {3,1}, {3,2}, {3,3}} - {{1,1}, {1,2}, {2,3}, {3,1}, {3,3}}\\\n",
    "= {{1,3}, {2,1}}"
   ]
  },
  {
   "cell_type": "markdown",
   "id": "39eee58a-dd91-49eb-9cab-6e1a20523e2d",
   "metadata": {},
   "source": [
    "4. $R \\circ S$"
   ]
  },
  {
   "cell_type": "markdown",
   "id": "7dfa65ab-9475-4dff-b1ca-dbcfa78598a8",
   "metadata": {},
   "source": [
    "$R \\circ S = \\{(a, b) \\, | \\, (a, c) \\in R \\text{ and } (c, b) \\in S \\text{ for some } c \\in A\\}$\n",
    "\n",
    "For (a, b) in R ∘ S:\n",
    "\n",
    "(1, 1): (1, 1) $\\in$ R, (1, 1) $\\in$ S\\\n",
    "(1, 2): (1, 1) $\\in$ R, (1, 2) $\\in$ S\\\n",
    "(1, 3): (1, 1) $\\in$ R, (1, 3) $\\in$ S\\\n",
    "(2, 3): (2, 3) $\\in$ R, (3, 3) $\\in$ S\\\n",
    "(3, 2): (3, 1) $\\in$ R, (1, 2) $\\in$ S\\\n",
    "(3, 3): (3, 1) $\\in$ R, (1, 3) $\\in$ S, (3, 3) $\\in$ R, (3, 3) $\\in$ S\\\n",
    "$\\therefore$ $R \\circ S$ = {{1,1}, {1,2}, {1,3}, {2,3}, {3,2}, {3,3}}"
   ]
  },
  {
   "cell_type": "markdown",
   "id": "19635560-3fb3-4eca-be24-ef387854dbc8",
   "metadata": {},
   "source": [
    "5. $S \\circ S$"
   ]
  },
  {
   "cell_type": "markdown",
   "id": "5cdaab00-dc06-4835-b76f-67f70827ea26",
   "metadata": {},
   "source": [
    "$S \\circ S = \\{(a, b) \\, | \\, (a, c) \\in S \\text{ and } (c, b) \\in S \\text{ for some } c \\in A\\}$\n",
    "\n",
    "For (a, b) in $S \\circ S$:\n",
    "\n",
    "(1, 1): (1, 1) $\\in$ S, (1, 1) $\\in$ S\\\n",
    "(1, 2): (1, 1) $\\in$ S, (1, 2) $\\in$ S\\\n",
    "(1, 3): (1, 1) $\\in$ S, (1, 3) $\\in$ S\\\n",
    "(2, 1): (2, 1) $\\in$ S, (1, 1) $\\in$ S\\\n",
    "(3, 3): (3, 3) $\\in$ S, (3, 3) $\\in$ S\n",
    "\n",
    "Therefore, $S \\circ S = \\{ \\{1, 1\\}, \\{1, 2\\}, \\{1, 3\\}, \\{2, 1\\}, \\{3, 3\\} \\}$"
   ]
  },
  {
   "cell_type": "markdown",
   "id": "6a916d6c-249e-41d6-9e7c-db028bc4eaf7",
   "metadata": {},
   "source": [
    "**Given**\n",
    "\n",
    "$A = \\{1,2,3\\}$\n",
    "\n",
    "$\\begin{equation}\n",
    "\\textbf{R} = \\{\n",
    "\\{1,1\\},\\{1,2\\},\\{1,3\\},\\{3,3\\}\n",
    "\\}\n",
    "\\end{equation}$\n",
    "\n",
    "$\\begin{equation}\n",
    "\\textbf{S} = \\{\n",
    "\\{1,1\\},\\{1,2\\},\\{2,1\\},\\{2,2\\},\\{3,3\\}\n",
    "\\}\n",
    "\\end{equation}$\n",
    "\n",
    "$\\begin{equation}\n",
    "\\textbf{T} = \\{\n",
    "\\{1,1\\},\\{1,2\\},\\{2,2\\},\\{2,3\\},\n",
    "\\}\n",
    "\\end{equation}$"
   ]
  },
  {
   "cell_type": "markdown",
   "id": "40b9c596-b21b-48c1-a65c-d24f72f3f7b0",
   "metadata": {},
   "source": [
    "1. Reflexive"
   ]
  },
  {
   "cell_type": "markdown",
   "id": "8ae34f1d-ec5a-4e6e-b207-cc1e24de6562",
   "metadata": {},
   "source": [
    "For Relation R:\n",
    "\n",
    "For element 1, aRa = {1,1} exists? True\\\n",
    "For element 2, aRa = {2,2} exists? False\\\n",
    "$\\therefore$ R is not reflexive.\n",
    "\n",
    "For Relation S:\n",
    "\n",
    "For element 1, aRa = {1,1} exists? True\\\n",
    "For element 2, aRa = {2,2} exists? True\\\n",
    "For element 3, aRa = {3,3} exists? True\\\n",
    "$\\therefore$ S is reflexive.\n",
    "\n",
    "For Relation T:\n",
    "\n",
    "For element 1, aRa = {1,1} exists? True\\\n",
    "For element 2, aRa = {2,2} exists? True\\\n",
    "For element 3, aRa = {3,3} exists? False\\\n",
    "$\\therefore$ T is not reflexive."
   ]
  },
  {
   "cell_type": "code",
   "execution_count": 39,
   "id": "ea259a2c-6e00-4498-bfd8-1b261c8939ad",
   "metadata": {},
   "outputs": [
    {
     "name": "stdout",
     "output_type": "stream",
     "text": [
      "Set R is reflexive: False\n",
      "Set S is reflexive: True\n",
      "Set T is reflexive: False\n"
     ]
    }
   ],
   "source": [
    "def is_reflexive(relation, elements):\n",
    "    for element in elements:\n",
    "        if (element, element) not in relation:\n",
    "            return False\n",
    "    return True\n",
    "\n",
    "# Define the sets and elements\n",
    "A = {1, 2, 3}\n",
    "R = [(1, 1), (1, 2), (1, 3), (3, 3)]\n",
    "S = [(1, 1), (1, 2), (2, 1), (2, 2), (3, 3)]\n",
    "T = [(1, 1), (1, 2), (2, 2), (2, 3)]\n",
    "\n",
    "# Check if each set is reflexive\n",
    "reflexive_R = is_reflexive(R, A)\n",
    "reflexive_S = is_reflexive(S, A)\n",
    "reflexive_T = is_reflexive(T, A)\n",
    "\n",
    "# Print the results\n",
    "print(\"Set R is reflexive:\", reflexive_R)\n",
    "print(\"Set S is reflexive:\", reflexive_S)\n",
    "print(\"Set T is reflexive:\", reflexive_T)"
   ]
  },
  {
   "cell_type": "markdown",
   "id": "a5b2f199-6dd0-4146-b903-3841e295ba6b",
   "metadata": {},
   "source": [
    "2. Symmetric or Anti-symmetric"
   ]
  },
  {
   "cell_type": "markdown",
   "id": "563dcd0c-85f8-41f8-a81d-58abe710b723",
   "metadata": {},
   "source": [
    "For Relation R:\n",
    "\n",
    "{1,1}: Is symmetric\\\n",
    "{1,2}: bRa = {2,1}? False\\\n",
    "$\\therefore$ R is anti-symmetric.\n",
    "\n",
    "For Relation S:\n",
    "\n",
    "{1,1}: Is symmetric\\\n",
    "{1,2}: bRa = {2,1}? True\\\n",
    "{2,2}: Is symmetri\\\n",
    "{3,3}: Is symmetric\\\n",
    "$\\therefore$ S is symmetric.\n",
    "\n",
    "For Relation T:\n",
    "\n",
    "{1,1}: Is symmetric\\\n",
    "{1,2}: bRa = {2,1}? False\\\n",
    "$\\therefore$ T is not anti-symmetric."
   ]
  },
  {
   "cell_type": "code",
   "execution_count": 45,
   "id": "6895a7b5-672f-4a60-89ce-8856b889926c",
   "metadata": {},
   "outputs": [
    {
     "name": "stdout",
     "output_type": "stream",
     "text": [
      "Relation R is symmetric: False\n",
      "Relation R is anti-symmetric: True\n",
      "Relation S is symmetric: True\n",
      "Relation S is anti-symmetric: False\n",
      "Relation T is symmetric: False\n",
      "Relation T is anti-symmetric: True\n"
     ]
    }
   ],
   "source": [
    "def is_symmetric(relation):\n",
    "    for a, b in relation:\n",
    "        if (b, a) not in relation:\n",
    "            return False\n",
    "    return True\n",
    "\n",
    "def is_anti_symmetric(relation):\n",
    "    for a, b in relation:\n",
    "        if a != b and (b, a) in relation:\n",
    "            return False\n",
    "    return True\n",
    "\n",
    "# Define the sets and relations\n",
    "A = {1, 2, 3}\n",
    "R = [(1, 1), (1, 2), (1, 3), (3, 3)]\n",
    "S = [(1, 1), (1, 2), (2, 1), (2, 2), (3, 3)]\n",
    "T = [(1, 1), (1, 2), (2, 2), (2, 3)]\n",
    "\n",
    "# Check if each relation is symmetric and/or anti-symmetric\n",
    "symmetric_R = is_symmetric(R)\n",
    "anti_symmetric_R = is_anti_symmetric(R)\n",
    "\n",
    "symmetric_S = is_symmetric(S)\n",
    "anti_symmetric_S = is_anti_symmetric(S)\n",
    "\n",
    "symmetric_T = is_symmetric(T)\n",
    "anti_symmetric_T = is_anti_symmetric(T)\n",
    "\n",
    "# Print the results\n",
    "print(\"Relation R is symmetric:\", symmetric_R)\n",
    "print(\"Relation R is anti-symmetric:\", anti_symmetric_R)\n",
    "\n",
    "print(\"Relation S is symmetric:\", symmetric_S)\n",
    "print(\"Relation S is anti-symmetric:\", anti_symmetric_S)\n",
    "\n",
    "print(\"Relation T is symmetric:\", symmetric_T)\n",
    "print(\"Relation T is anti-symmetric:\", anti_symmetric_T)"
   ]
  },
  {
   "cell_type": "markdown",
   "id": "735c5de5-a0d1-486e-9a23-d54cf98e6344",
   "metadata": {},
   "source": [
    "3. Transitive"
   ]
  },
  {
   "cell_type": "markdown",
   "id": "6e639bda-1680-4d20-b494-596de91f2085",
   "metadata": {},
   "source": [
    "For $(a, b)$ in R:\n",
    "\n",
    "For {1,1}:\\\n",
    "R = {1,1}, $R = bRc$, ({1,1} = aRc)? True\n",
    "\n",
    "For {1,3}:\\\n",
    "R = {3,3}, $R = bRc$, ({1,3} = aRc)? True\n",
    "\n",
    "For {3,3}:\\\n",
    "R = {3,3}, $R = bRc$, ({3,3} = aRc)? True\n",
    "\n",
    "$\\therefore$ R is transitive.\n",
    "\n",
    "For Relation S:\n",
    "\n",
    "For $(a, b)$ in S:\n",
    "\n",
    "For {1,1}:\\\n",
    "S = {1,1}, $S = bRc$, ({1,1} = aRc)? True\n",
    "\n",
    "For {1,1}:\\\n",
    "S = {1,2}, $S = bRc$, ({1,2} = aRc)? True\n",
    "\n",
    "For {1,2}:\\\n",
    "S = {2,1}, $S = bRc$, ({1,1} = aRc)? True\n",
    "\n",
    "For {1,2}:\\\n",
    "S = {2,2}, $S = bRc$, ({1,2} = aRc)? True\n",
    "\n",
    "For {2,1}:\\\n",
    "S = {1,1}, $S = bRc$, ({2,1} = aRc)? True\n",
    "\n",
    "For {2,1}:\\\n",
    "S = {1,2}, $S = bRc$, ({2,2} = aRc$)? True\n",
    "\n",
    "For {2,2}:\\\n",
    "S = {2,2}, $S = bRc$, ({2,2} = aRc$)? True\n",
    "\n",
    "For {2,2}:\\\n",
    "S = {2,1}, $S = bRc$, ({2,1} = aRc)? True\n",
    "\n",
    "For {3,3}:\\\n",
    "S = {3,3}, $S = bRc$, ({3,3} = aRc)? True\n",
    "\n",
    "$\\therefore$ S is transitive.\n",
    "\n",
    "For Relation T:\n",
    "\n",
    "For $(a, b)$ in T:\n",
    "\n",
    "For {1,1}:\\\n",
    "T = {1,1}, $T = bRc$, ({1,1} = aRc)? True\n",
    "\n",
    "For {1,1}:\\\n",
    "T = {1,2}, $T = bRc$, ({1,2} = aRc)? True\n",
    "\n",
    "For {1,2}:\\\n",
    "T = {2,2}, $T = bRc$, ({1,2} = aRc)? True\n",
    "\n",
    "For {1,2}:\\\n",
    "T = {2,3}, $T = bRc$, ({1,3} = aRc)? False\n",
    "\n",
    "$\\therefore$ T is not transitive."
   ]
  },
  {
   "cell_type": "code",
   "execution_count": 43,
   "id": "f98a136f-2df6-4beb-8f3d-d37b6c6f6bc6",
   "metadata": {},
   "outputs": [
    {
     "name": "stdout",
     "output_type": "stream",
     "text": [
      "Relation R is transitive: True\n",
      "Relation S is transitive: True\n",
      "Relation T is transitive: False\n"
     ]
    }
   ],
   "source": [
    "def is_transitive(relation):\n",
    "    for (a, b) in relation:\n",
    "        for (c, d) in relation:\n",
    "            if b == c and (a, d) not in relation:\n",
    "                return False\n",
    "    return True\n",
    "\n",
    "# Define the sets and relations\n",
    "A = {1, 2, 3}\n",
    "R = [(1, 1), (1, 2), (1, 3), (3, 3)]\n",
    "S = [(1, 1), (1, 2), (2, 1), (2, 2), (3, 3)]\n",
    "T = [(1, 1), (1, 2), (2, 2), (2, 3)]\n",
    "\n",
    "# Check if each relation is transitive\n",
    "transitive_R = is_transitive(R)\n",
    "transitive_S = is_transitive(S)\n",
    "transitive_T = is_transitive(T)\n",
    "\n",
    "# Print the results\n",
    "print(\"Relation R is transitive:\", transitive_R)\n",
    "print(\"Relation S is transitive:\", transitive_S)\n",
    "print(\"Relation T is transitive:\", transitive_T)"
   ]
  },
  {
   "cell_type": "code",
   "execution_count": null,
   "id": "c2741199-e615-4d94-b87f-6f011baba3f1",
   "metadata": {},
   "outputs": [],
   "source": []
  }
 ],
 "metadata": {
  "kernelspec": {
   "display_name": "Python 3 (ipykernel)",
   "language": "python",
   "name": "python3"
  },
  "language_info": {
   "codemirror_mode": {
    "name": "ipython",
    "version": 3
   },
   "file_extension": ".py",
   "mimetype": "text/x-python",
   "name": "python",
   "nbconvert_exporter": "python",
   "pygments_lexer": "ipython3",
   "version": "3.11.5"
  }
 },
 "nbformat": 4,
 "nbformat_minor": 5
}
